{
  "nbformat": 4,
  "nbformat_minor": 0,
  "metadata": {
    "kernelspec": {
      "display_name": "Python 3",
      "language": "python",
      "name": "python3"
    },
    "language_info": {
      "codemirror_mode": {
        "name": "ipython",
        "version": 3
      },
      "file_extension": ".py",
      "mimetype": "text/x-python",
      "name": "python",
      "nbconvert_exporter": "python",
      "pygments_lexer": "ipython3",
      "version": "3.7.4"
    },
    "colab": {
      "provenance": [],
      "toc_visible": true,
      "include_colab_link": true
    }
  },
  "cells": [
    {
      "cell_type": "markdown",
      "metadata": {
        "id": "view-in-github",
        "colab_type": "text"
      },
      "source": [
        "<a href=\"https://colab.research.google.com/github/ra-respinoza/MachineLearning/blob/main/1_Introducci%C3%B3n_a_NumPy.ipynb\" target=\"_parent\"><img src=\"https://colab.research.google.com/assets/colab-badge.svg\" alt=\"Open In Colab\"/></a>"
      ]
    },
    {
      "cell_type": "markdown",
      "metadata": {
        "id": "yDAqNAk5T3J5"
      },
      "source": [
        "# Introducción a NumPy"
      ]
    },
    {
      "cell_type": "markdown",
      "metadata": {
        "id": "v5i0jNOhT3J6"
      },
      "source": [
        "[Numpy](https://numpy.org) es una librería fundamental para la computación científica con Python.\n",
        "* Proporciona arrays N-dimensionales\n",
        "* Implementa funciones matemáticas sofisticadas\n",
        "* Proporciona herramientas para integrar C/C++ y Fortran\n",
        "* Proporciona mecanismos para facilitar la realización de tareas relacionadas con álgebra lineal o números aleatorios"
      ]
    },
    {
      "cell_type": "markdown",
      "metadata": {
        "id": "CqYUF6sRT3J8"
      },
      "source": [
        "## Imports"
      ]
    },
    {
      "cell_type": "code",
      "metadata": {
        "id": "LTvG3hyjT3J9"
      },
      "source": [
        "import numpy as np"
      ],
      "execution_count": 1,
      "outputs": []
    },
    {
      "cell_type": "markdown",
      "metadata": {
        "id": "PXjVKi7lT3KC"
      },
      "source": [
        "## Arrays"
      ]
    },
    {
      "cell_type": "markdown",
      "metadata": {
        "id": "-CBg_pYQT3KD"
      },
      "source": [
        "Un **array** es una estructura de datos que consiste en una colección de elementos (valores o variables), cada uno identificado por al menos un índice o clave. Un array se almacena de modo que la posición de cada elemento se pueda calcular a partir de su tupla de índice mediante una fórmula matemática. El tipo más simple de array es un array lineal, también llamado array unidimensional."
      ]
    },
    {
      "cell_type": "markdown",
      "metadata": {
        "id": "BzXQcCLuT3KE"
      },
      "source": [
        "En numpy:\n",
        "* Cada dimensión se denomina **axis**\n",
        "* El número de dimensiones se denomina **rank**\n",
        "* La lista de dimensiones con su correspondiente longitud se denomina **shape**\n",
        "* El número total de elementos (multiplicación de la longitud de las dimensiones) se denomina **size**"
      ]
    },
    {
      "cell_type": "code",
      "metadata": {
        "id": "RKHSmoycT3KE"
      },
      "source": [
        "# Array cuyos valores son todos 0\n",
        "a = np.zeros((2, 4))"
      ],
      "execution_count": 2,
      "outputs": []
    },
    {
      "cell_type": "code",
      "metadata": {
        "id": "JIN4OavkT3KH",
        "colab": {
          "base_uri": "https://localhost:8080/"
        },
        "outputId": "734413dc-a2b7-4234-999f-3fe9cf64078c"
      },
      "source": [
        "a"
      ],
      "execution_count": 3,
      "outputs": [
        {
          "output_type": "execute_result",
          "data": {
            "text/plain": [
              "array([[0., 0., 0., 0.],\n",
              "       [0., 0., 0., 0.]])"
            ]
          },
          "metadata": {},
          "execution_count": 3
        }
      ]
    },
    {
      "cell_type": "markdown",
      "metadata": {
        "id": "gmfrpXw7T3KL"
      },
      "source": [
        "_**a**_ es un array:\n",
        "* Con dos **axis**, el primero de longitud 2 y el segundo de longitud 4\n",
        "* Con un **rank** igual a 2\n",
        "* Con un **shape** igual (2, 4)\n",
        "* Con un **size** igual a 8"
      ]
    },
    {
      "cell_type": "code",
      "metadata": {
        "id": "afJ3Mr9UT3KM",
        "colab": {
          "base_uri": "https://localhost:8080/"
        },
        "outputId": "09bbea01-c81f-414b-8a5a-6148a216b102"
      },
      "source": [
        "a.shape"
      ],
      "execution_count": 4,
      "outputs": [
        {
          "output_type": "execute_result",
          "data": {
            "text/plain": [
              "(2, 4)"
            ]
          },
          "metadata": {},
          "execution_count": 4
        }
      ]
    },
    {
      "cell_type": "code",
      "metadata": {
        "id": "MYyetC3MT3KO",
        "colab": {
          "base_uri": "https://localhost:8080/"
        },
        "outputId": "30a495d2-1001-4102-96a5-c6f842f4ca8a"
      },
      "source": [
        "a.ndim"
      ],
      "execution_count": 5,
      "outputs": [
        {
          "output_type": "execute_result",
          "data": {
            "text/plain": [
              "2"
            ]
          },
          "metadata": {},
          "execution_count": 5
        }
      ]
    },
    {
      "cell_type": "code",
      "metadata": {
        "id": "f90sewecT3KS",
        "colab": {
          "base_uri": "https://localhost:8080/"
        },
        "outputId": "2a0f4aad-ea65-441c-bb3a-21032f344115"
      },
      "source": [
        "a.size"
      ],
      "execution_count": 6,
      "outputs": [
        {
          "output_type": "execute_result",
          "data": {
            "text/plain": [
              "8"
            ]
          },
          "metadata": {},
          "execution_count": 6
        }
      ]
    },
    {
      "cell_type": "markdown",
      "metadata": {
        "id": "j15oFt_AT3KV"
      },
      "source": [
        "## Creación de Arrays"
      ]
    },
    {
      "cell_type": "code",
      "metadata": {
        "id": "FB6A2j3XT3KW",
        "colab": {
          "base_uri": "https://localhost:8080/"
        },
        "outputId": "487942a1-7973-4153-80aa-37e27f12ad03"
      },
      "source": [
        "# Array cuyos valores son todos 0\n",
        "np.zeros((2, 3, 4))"
      ],
      "execution_count": 7,
      "outputs": [
        {
          "output_type": "execute_result",
          "data": {
            "text/plain": [
              "array([[[0., 0., 0., 0.],\n",
              "        [0., 0., 0., 0.],\n",
              "        [0., 0., 0., 0.]],\n",
              "\n",
              "       [[0., 0., 0., 0.],\n",
              "        [0., 0., 0., 0.],\n",
              "        [0., 0., 0., 0.]]])"
            ]
          },
          "metadata": {},
          "execution_count": 7
        }
      ]
    },
    {
      "cell_type": "code",
      "metadata": {
        "id": "lMUA63xwT3KY",
        "colab": {
          "base_uri": "https://localhost:8080/"
        },
        "outputId": "e1cb3e8b-b7f9-48f4-82a8-c81222a38542"
      },
      "source": [
        "# Array cuyos valores son todos 1\n",
        "np.ones((2, 3, 4))"
      ],
      "execution_count": 8,
      "outputs": [
        {
          "output_type": "execute_result",
          "data": {
            "text/plain": [
              "array([[[1., 1., 1., 1.],\n",
              "        [1., 1., 1., 1.],\n",
              "        [1., 1., 1., 1.]],\n",
              "\n",
              "       [[1., 1., 1., 1.],\n",
              "        [1., 1., 1., 1.],\n",
              "        [1., 1., 1., 1.]]])"
            ]
          },
          "metadata": {},
          "execution_count": 8
        }
      ]
    },
    {
      "cell_type": "code",
      "metadata": {
        "id": "H0QE-kPtT3Kb",
        "outputId": "c39f0521-faf4-4bab-ff71-f1f757b1be42"
      },
      "source": [
        "# Array cuyos valores son todos el valor indicado como segundo parámetro de la función\n",
        "np.full((2, 3, 4), 8)"
      ],
      "execution_count": null,
      "outputs": [
        {
          "output_type": "execute_result",
          "data": {
            "text/plain": [
              "array([[[8, 8, 8, 8],\n",
              "        [8, 8, 8, 8],\n",
              "        [8, 8, 8, 8]],\n",
              "\n",
              "       [[8, 8, 8, 8],\n",
              "        [8, 8, 8, 8],\n",
              "        [8, 8, 8, 8]]])"
            ]
          },
          "metadata": {
            "tags": []
          },
          "execution_count": 9
        }
      ]
    },
    {
      "cell_type": "code",
      "metadata": {
        "id": "KRhP-QPuT3Kd",
        "outputId": "7d81d6a8-0982-41c6-e9b6-39c038848074"
      },
      "source": [
        "# El resultado de np.empty no es predecible\n",
        "# Inicializa los valores del array con lo que haya en memoria en ese momento\n",
        "np.empty((2, 3, 9))"
      ],
      "execution_count": null,
      "outputs": [
        {
          "output_type": "execute_result",
          "data": {
            "text/plain": [
              "array([[[ 2.31584178e+077, -1.49457241e-154,  2.24704384e-314,\n",
              "          2.24703961e-314,  2.24703803e-314,  2.24059351e-314,\n",
              "          2.24704094e-314,  2.24704777e-314,  2.24703958e-314],\n",
              "        [ 2.24703739e-314,  2.24703980e-314,  2.24703344e-314,\n",
              "          2.24704170e-314,  2.24704720e-314,  2.24704043e-314,\n",
              "          2.26943022e-314,  2.26943028e-314,  2.26857648e-314],\n",
              "        [ 2.26864577e-314,  2.24703942e-314,  2.24703945e-314,\n",
              "          2.24703983e-314,  2.24704008e-314,  2.24704011e-314,\n",
              "          2.24704736e-314,  2.24704745e-314,  2.24704739e-314]],\n",
              "\n",
              "       [[ 2.24704764e-314,  2.24704087e-314,  2.26859791e-314,\n",
              "          2.26859772e-314,  2.26859855e-314,  2.26859779e-314,\n",
              "          2.26859863e-314,  2.31584178e+077,  2.31584178e+077],\n",
              "        [ 2.24076228e-314,  2.24133656e-314,  0.00000000e+000,\n",
              "          0.00000000e+000,  0.00000000e+000,  4.94065646e-324,\n",
              "          4.94065646e-324,  0.00000000e+000,  0.00000000e+000],\n",
              "        [ 2.26958240e-314,  0.00000000e+000,  0.00000000e+000,\n",
              "          0.00000000e+000,  2.26958233e-314,  2.26958233e-314,\n",
              "          0.00000000e+000, -1.29073793e-231,  3.75914434e-308]]])"
            ]
          },
          "metadata": {
            "tags": []
          },
          "execution_count": 10
        }
      ]
    },
    {
      "cell_type": "code",
      "metadata": {
        "id": "quipf1bAT3Kf",
        "outputId": "a3b27633-e2f9-4be4-b660-f96ba6044f15"
      },
      "source": [
        "# Inicializacion del array utilizando un array de Python\n",
        "b = np.array([[1, 2, 3], [4, 5, 6]])\n",
        "b"
      ],
      "execution_count": null,
      "outputs": [
        {
          "output_type": "execute_result",
          "data": {
            "text/plain": [
              "array([[1, 2, 3],\n",
              "       [4, 5, 6]])"
            ]
          },
          "metadata": {
            "tags": []
          },
          "execution_count": 11
        }
      ]
    },
    {
      "cell_type": "code",
      "metadata": {
        "id": "2WoDAW2HT3Kh",
        "outputId": "22a06ad1-1c0b-407e-9ba6-5d9a2ffe1ec7"
      },
      "source": [
        "b.shape"
      ],
      "execution_count": null,
      "outputs": [
        {
          "output_type": "execute_result",
          "data": {
            "text/plain": [
              "(2, 3)"
            ]
          },
          "metadata": {
            "tags": []
          },
          "execution_count": 12
        }
      ]
    },
    {
      "cell_type": "code",
      "metadata": {
        "id": "zjm148RBT3Kk",
        "outputId": "8c24df96-cb79-410e-ebed-a69da1770525"
      },
      "source": [
        "# Creación del array utilizando una función basada en rangos\n",
        "# (minimo, maximo, número elementos del array)\n",
        "print(np.linspace(0, 6, 10))"
      ],
      "execution_count": null,
      "outputs": [
        {
          "output_type": "stream",
          "text": [
            "[0.         0.66666667 1.33333333 2.         2.66666667 3.33333333\n",
            " 4.         4.66666667 5.33333333 6.        ]\n"
          ],
          "name": "stdout"
        }
      ]
    },
    {
      "cell_type": "code",
      "metadata": {
        "id": "kTanWFxVT3Km",
        "outputId": "0ac30f92-79ad-4e62-a93d-e382560e21e0"
      },
      "source": [
        "# Inicialización del array con valores aleatorios\n",
        "np.random.rand(2, 3, 4)"
      ],
      "execution_count": null,
      "outputs": [
        {
          "output_type": "execute_result",
          "data": {
            "text/plain": [
              "array([[[0.03378783, 0.51370292, 0.0448622 , 0.59146622],\n",
              "        [0.65020737, 0.98552739, 0.02602994, 0.23295317],\n",
              "        [0.61644088, 0.74966376, 0.98919117, 0.10470065]],\n",
              "\n",
              "       [[0.43496062, 0.5189665 , 0.6438961 , 0.75687474],\n",
              "        [0.76658059, 0.27930081, 0.70681049, 0.74179797],\n",
              "        [0.39368796, 0.2892813 , 0.85135049, 0.84055115]]])"
            ]
          },
          "metadata": {
            "tags": []
          },
          "execution_count": 14
        }
      ]
    },
    {
      "cell_type": "code",
      "metadata": {
        "id": "9wrdXRMST3Kn",
        "outputId": "7901e078-6c12-4ceb-d2a7-45b9024888df"
      },
      "source": [
        "# Inicialización del array con valores aleatorios conforme a una distribución normal\n",
        "np.random.randn(2, 4)"
      ],
      "execution_count": null,
      "outputs": [
        {
          "output_type": "execute_result",
          "data": {
            "text/plain": [
              "array([[ 0.53995709,  1.90355257,  0.80971232,  0.88201734],\n",
              "       [-0.77141459, -0.35755972, -1.07336745, -0.249796  ]])"
            ]
          },
          "metadata": {
            "tags": []
          },
          "execution_count": 15
        }
      ]
    },
    {
      "cell_type": "code",
      "metadata": {
        "id": "uB7vrXzVT3Kp",
        "outputId": "628a6603-52d9-4f4b-d617-9c62c0ce8978"
      },
      "source": [
        "%matplotlib inline\n",
        "import matplotlib.pyplot as plt\n",
        "\n",
        "c = np.random.randn(1000000)\n",
        "\n",
        "plt.hist(c, bins=200)\n",
        "plt.show()"
      ],
      "execution_count": null,
      "outputs": [
        {
          "output_type": "display_data",
          "data": {
            "image/png": "[encoded data removed]",
            "text/plain": [
              "<Figure size 432x288 with 1 Axes>"
            ]
          },
          "metadata": {
            "tags": [],
            "needs_background": "light"
          }
        }
      ]
    },
    {
      "cell_type": "code",
      "metadata": {
        "id": "8XWeUqzWT3Kq",
        "outputId": "239e0267-7a4a-43f6-c379-08561ae51dd3"
      },
      "source": [
        "# Inicialización del Array utilizando una función personalizada\n",
        "\n",
        "def func(x, y):\n",
        "    return x + 2 * y\n",
        "\n",
        "np.fromfunction(func, (3, 5))"
      ],
      "execution_count": null,
      "outputs": [
        {
          "output_type": "execute_result",
          "data": {
            "text/plain": [
              "array([[ 0.,  2.,  4.,  6.,  8.],\n",
              "       [ 1.,  3.,  5.,  7.,  9.],\n",
              "       [ 2.,  4.,  6.,  8., 10.]])"
            ]
          },
          "metadata": {
            "tags": []
          },
          "execution_count": 17
        }
      ]
    },
    {
      "cell_type": "markdown",
      "metadata": {
        "id": "h4mrN7AMT3Ks"
      },
      "source": [
        "## Acceso a los elementos de un array"
      ]
    },
    {
      "cell_type": "markdown",
      "metadata": {
        "id": "4RFwly-1T3Ks"
      },
      "source": [
        "### Array unidimensional"
      ]
    },
    {
      "cell_type": "code",
      "metadata": {
        "id": "hF83E7ieT3Ks",
        "outputId": "8ed0ead2-9e26-44ff-d3a4-e0abaa69e462"
      },
      "source": [
        "# Creación de un Array unidimensional\n",
        "array_uni = np.array([1, 3, 5, 7, 9, 11])\n",
        "print(\"Shape:\", array_uni.shape)\n",
        "print(\"Array_uni:\", array_uni)"
      ],
      "execution_count": null,
      "outputs": [
        {
          "output_type": "stream",
          "text": [
            "Shape: (6,)\n",
            "Array_uni: [ 1  3  5  7  9 11]\n"
          ],
          "name": "stdout"
        }
      ]
    },
    {
      "cell_type": "code",
      "metadata": {
        "id": "s9GIUsLVT3Ku",
        "outputId": "c2eb9911-914e-4254-b463-6f61ae8985c7"
      },
      "source": [
        "# Accediendo al quinto elemento del Array\n",
        "array_uni[4]"
      ],
      "execution_count": null,
      "outputs": [
        {
          "output_type": "execute_result",
          "data": {
            "text/plain": [
              "9"
            ]
          },
          "metadata": {
            "tags": []
          },
          "execution_count": 19
        }
      ]
    },
    {
      "cell_type": "code",
      "metadata": {
        "id": "m4JriDmUT3Kw",
        "outputId": "dcbbee18-e1ac-44da-cd04-63dd221d2b4f"
      },
      "source": [
        "# Accediendo al tercer y cuarto elemento del Array\n",
        "array_uni[2:4]"
      ],
      "execution_count": null,
      "outputs": [
        {
          "output_type": "execute_result",
          "data": {
            "text/plain": [
              "array([5, 7])"
            ]
          },
          "metadata": {
            "tags": []
          },
          "execution_count": 20
        }
      ]
    },
    {
      "cell_type": "code",
      "metadata": {
        "id": "x00_IstBT3Kx",
        "outputId": "51b90be7-8c7d-4130-fb6e-05b2b4b1f9b4"
      },
      "source": [
        "# Accediendo a los elementos 0, 3 y 5 del Array\n",
        "array_uni[0::3]"
      ],
      "execution_count": null,
      "outputs": [
        {
          "output_type": "execute_result",
          "data": {
            "text/plain": [
              "array([1, 7])"
            ]
          },
          "metadata": {
            "tags": []
          },
          "execution_count": 21
        }
      ]
    },
    {
      "cell_type": "markdown",
      "metadata": {
        "id": "Tb3NHxbVT3Kz"
      },
      "source": [
        "### Array multidimensional"
      ]
    },
    {
      "cell_type": "code",
      "metadata": {
        "id": "DeArKIALT3Kz",
        "outputId": "45483069-3fdd-4eb6-c986-67985eea8065"
      },
      "source": [
        "# Creación de un Array multidimensional\n",
        "array_multi = np.array([[1, 2, 3, 4], [5, 6, 7, 8]])\n",
        "print(\"Shape:\", array_multi.shape)\n",
        "print(\"Array_multi:\\n\", array_multi)"
      ],
      "execution_count": null,
      "outputs": [
        {
          "output_type": "stream",
          "text": [
            "Shape: (2, 4)\n",
            "Array_multi:\n",
            " [[1 2 3 4]\n",
            " [5 6 7 8]]\n"
          ],
          "name": "stdout"
        }
      ]
    },
    {
      "cell_type": "code",
      "metadata": {
        "id": "0Do0hU11T3K1",
        "outputId": "033b3b5d-2baf-45ac-d502-6bb4055f2c7e"
      },
      "source": [
        "# Accediendo al cuarto elemento del Array\n",
        "array_multi[0, 3]"
      ],
      "execution_count": null,
      "outputs": [
        {
          "output_type": "execute_result",
          "data": {
            "text/plain": [
              "4"
            ]
          },
          "metadata": {
            "tags": []
          },
          "execution_count": 23
        }
      ]
    },
    {
      "cell_type": "code",
      "metadata": {
        "id": "2oY93cV6T3K2",
        "outputId": "e8edf737-987f-467b-f625-8e0501367066"
      },
      "source": [
        "# Accediendo a la segunda fila del Array\n",
        "array_multi[1, :]"
      ],
      "execution_count": null,
      "outputs": [
        {
          "output_type": "execute_result",
          "data": {
            "text/plain": [
              "array([5, 6, 7, 8])"
            ]
          },
          "metadata": {
            "tags": []
          },
          "execution_count": 24
        }
      ]
    },
    {
      "cell_type": "code",
      "metadata": {
        "id": "gfGFBQNJT3K3",
        "outputId": "77a9a8cb-d895-430c-fa03-ce7927ec3937"
      },
      "source": [
        "# Accediendo al tercer elemento de las dos primeras filas del Array\n",
        "array_multi[0:2, 2]"
      ],
      "execution_count": null,
      "outputs": [
        {
          "output_type": "execute_result",
          "data": {
            "text/plain": [
              "array([3, 7])"
            ]
          },
          "metadata": {
            "tags": []
          },
          "execution_count": 25
        }
      ]
    },
    {
      "cell_type": "markdown",
      "metadata": {
        "id": "4pQNHno3T3K4"
      },
      "source": [
        "## Modificación de un Array"
      ]
    },
    {
      "cell_type": "code",
      "metadata": {
        "id": "l4upHa6wT3K4",
        "outputId": "377cf2d4-d82e-4084-c6cf-a4b26d5fa1e1"
      },
      "source": [
        "# Creación de un Array unidimensional inicializado con el rango de elementos 0-27\n",
        "array1 = np.arange(28)\n",
        "print(\"Shape:\", array1.shape)\n",
        "print(\"Array 1:\", array1)"
      ],
      "execution_count": null,
      "outputs": [
        {
          "output_type": "stream",
          "text": [
            "Shape: (28,)\n",
            "Array 1: [ 0  1  2  3  4  5  6  7  8  9 10 11 12 13 14 15 16 17 18 19 20 21 22 23\n",
            " 24 25 26 27]\n"
          ],
          "name": "stdout"
        }
      ]
    },
    {
      "cell_type": "code",
      "metadata": {
        "id": "k2BBQNA6T3K5",
        "outputId": "0c9864a6-5572-444d-9636-39ddd4068885"
      },
      "source": [
        "# Cambiar las dimensiones del Array y sus longitudes\n",
        "array1.shape = (7, 4)\n",
        "print(\"Shape:\", array1.shape)\n",
        "print(\"Array 1:\\n\", array1)"
      ],
      "execution_count": null,
      "outputs": [
        {
          "output_type": "stream",
          "text": [
            "Shape: (7, 4)\n",
            "Array 1:\n",
            " [[ 0  1  2  3]\n",
            " [ 4  5  6  7]\n",
            " [ 8  9 10 11]\n",
            " [12 13 14 15]\n",
            " [16 17 18 19]\n",
            " [20 21 22 23]\n",
            " [24 25 26 27]]\n"
          ],
          "name": "stdout"
        }
      ]
    },
    {
      "cell_type": "code",
      "metadata": {
        "id": "3MpE_oSOT3K7",
        "outputId": "21fee166-6d0b-4a56-af33-bc892449a162"
      },
      "source": [
        "# El ejemplo anterior devuelve un nuevo Array que apunta a los mismos datos.\n",
        "# Importante: Modificaciones en un Array, modificaran el otro Array\n",
        "array2 = array1.reshape(4, 7)\n",
        "print(\"Shape:\", array2.shape)\n",
        "print(\"Array 2:\\n\", array2)"
      ],
      "execution_count": null,
      "outputs": [
        {
          "output_type": "stream",
          "text": [
            "Shape: (4, 7)\n",
            "Array 2:\n",
            " [[ 0  1  2  3  4  5  6]\n",
            " [ 7  8  9 10 11 12 13]\n",
            " [14 15 16 17 18 19 20]\n",
            " [21 22 23 24 25 26 27]]\n"
          ],
          "name": "stdout"
        }
      ]
    },
    {
      "cell_type": "code",
      "metadata": {
        "id": "mO7G3pdAT3K8",
        "outputId": "db2ddfb2-ec42-4a2b-fec7-1954ff424e38"
      },
      "source": [
        "# Modificación del nuevo Array devuelto\n",
        "array2[0, 3] = 20\n",
        "print(\"Array 2:\\n\", array2)"
      ],
      "execution_count": null,
      "outputs": [
        {
          "output_type": "stream",
          "text": [
            "Array 2:\n",
            " [[ 0  1  2 20  4  5  6]\n",
            " [ 7  8  9 10 11 12 13]\n",
            " [14 15 16 17 18 19 20]\n",
            " [21 22 23 24 25 26 27]]\n"
          ],
          "name": "stdout"
        }
      ]
    },
    {
      "cell_type": "code",
      "metadata": {
        "id": "Ri6eot4PT3K9",
        "outputId": "c69062d0-5e49-4259-dba4-d08a210bad25"
      },
      "source": [
        "print(\"Array 1:\\n\", array1)"
      ],
      "execution_count": null,
      "outputs": [
        {
          "output_type": "stream",
          "text": [
            "Array 1:\n",
            " [[ 0  1  2 20]\n",
            " [ 4  5  6  7]\n",
            " [ 8  9 10 11]\n",
            " [12 13 14 15]\n",
            " [16 17 18 19]\n",
            " [20 21 22 23]\n",
            " [24 25 26 27]]\n"
          ],
          "name": "stdout"
        }
      ]
    },
    {
      "cell_type": "code",
      "metadata": {
        "id": "c8rnBC0MT3K-",
        "outputId": "99dbb60a-ea07-4103-c019-8276d49120ad"
      },
      "source": [
        "# Desenvuelve el Array, devolviendo un nuevo Array de una sola dimension\n",
        "# Importante: El nuevo array apunta a los mismos datos\n",
        "print(\"Array 1:\", array1.ravel())"
      ],
      "execution_count": null,
      "outputs": [
        {
          "output_type": "stream",
          "text": [
            "Array 1: [ 0  1  2 20  4  5  6  7  8  9 10 11 12 13 14 15 16 17 18 19 20 21 22 23\n",
            " 24 25 26 27]\n"
          ],
          "name": "stdout"
        }
      ]
    },
    {
      "cell_type": "markdown",
      "metadata": {
        "id": "-Vi9JoQET3K_"
      },
      "source": [
        "## Operaciones aritméticas con Arrays"
      ]
    },
    {
      "cell_type": "code",
      "metadata": {
        "id": "o9Zxe8lmT3LA",
        "outputId": "e0fab8b1-3e02-459a-c9c0-e0edde9e3851"
      },
      "source": [
        "# Creación de dos Arrays unidimensionales\n",
        "array1 = np.arange(2, 18, 2)\n",
        "array2 = np.arange(8)\n",
        "print(\"Array 1:\", array1)\n",
        "print(\"Array 2:\", array2)"
      ],
      "execution_count": null,
      "outputs": [
        {
          "output_type": "stream",
          "text": [
            "Array 1: [ 2  4  6  8 10 12 14 16]\n",
            "Array 2: [0 1 2 3 4 5 6 7]\n"
          ],
          "name": "stdout"
        }
      ]
    },
    {
      "cell_type": "code",
      "metadata": {
        "id": "j-Uoi9EhT3LB",
        "outputId": "b0c7fb83-0505-4332-8eb1-17a38df27ea2"
      },
      "source": [
        "# Suma\n",
        "print(array1 + array2)"
      ],
      "execution_count": null,
      "outputs": [
        {
          "output_type": "stream",
          "text": [
            "[ 2  5  8 11 14 17 20 23]\n"
          ],
          "name": "stdout"
        }
      ]
    },
    {
      "cell_type": "code",
      "metadata": {
        "id": "VNZXhhouT3LC",
        "outputId": "4c87fa4e-892f-4269-e9b5-b4fbc7e3a67f"
      },
      "source": [
        "# Resta\n",
        "print(array1 - array2)"
      ],
      "execution_count": null,
      "outputs": [
        {
          "output_type": "stream",
          "text": [
            "[2 3 4 5 6 7 8 9]\n"
          ],
          "name": "stdout"
        }
      ]
    },
    {
      "cell_type": "code",
      "metadata": {
        "id": "-wF4j4jvT3LD",
        "outputId": "89444eee-0547-459c-8a4d-98708bf3fcb7"
      },
      "source": [
        "# Multiplicacion\n",
        "# Importante: No es una multiplicación de matrices\n",
        "print(array1 * array2)"
      ],
      "execution_count": null,
      "outputs": [
        {
          "output_type": "stream",
          "text": [
            "[  0   4  12  24  40  60  84 112]\n"
          ],
          "name": "stdout"
        }
      ]
    },
    {
      "cell_type": "markdown",
      "metadata": {
        "id": "yaRmTZN_T3LE"
      },
      "source": [
        "## Broadcasting"
      ]
    },
    {
      "cell_type": "markdown",
      "metadata": {
        "id": "C1tJPZizT3LE"
      },
      "source": [
        "Si se aplican operaciones aritméticas sobre Arrays que no tienen la misma forma (shape) Numpy aplica un propiedad que se denomina Broadcasting."
      ]
    },
    {
      "cell_type": "code",
      "metadata": {
        "id": "v7VNce1QT3LF",
        "outputId": "7af4e6e3-3dd7-4711-9811-ce96601bca2b"
      },
      "source": [
        "# Creación de dos Arrays unidimensionales\n",
        "array1 = np.arange(5)\n",
        "array2 = np.array([3])\n",
        "print(\"Shape Array 1:\", array1.shape)\n",
        "print(\"Array 1:\", array1)\n",
        "print()\n",
        "print(\"Shape Array 2:\", array2.shape)\n",
        "print(\"Array 2:\", array2)"
      ],
      "execution_count": null,
      "outputs": [
        {
          "output_type": "stream",
          "text": [
            "Shape Array 1: (5,)\n",
            "Array 1: [0 1 2 3 4]\n",
            "\n",
            "Shape Array 2: (1,)\n",
            "Array 2: [3]\n"
          ],
          "name": "stdout"
        }
      ]
    },
    {
      "cell_type": "code",
      "metadata": {
        "id": "ll202GB-T3LG",
        "outputId": "e58871c4-2613-4d97-f9de-b9a0a584d1c0"
      },
      "source": [
        "# Suma de ambos Arrays\n",
        "array1 + array2"
      ],
      "execution_count": null,
      "outputs": [
        {
          "output_type": "execute_result",
          "data": {
            "text/plain": [
              "array([3, 4, 5, 6, 7])"
            ]
          },
          "metadata": {
            "tags": []
          },
          "execution_count": 37
        }
      ]
    },
    {
      "cell_type": "code",
      "metadata": {
        "id": "VMhVoLh0T3LG",
        "outputId": "a07aa128-b1ea-46e1-e26b-a32a8d3e8790"
      },
      "source": [
        "# Creación de dos Arrays multidimensional y unidimensional\n",
        "array1 = np.arange(6)\n",
        "array1.shape = (2, 3)\n",
        "array2 = np.arange(6, 18, 4)\n",
        "print(\"Shape Array 1:\", array1.shape)\n",
        "print(\"Array 1:\\n\", array1)\n",
        "print()\n",
        "print(\"Shape Array 2:\", array2.shape)\n",
        "print(\"Array 2:\", array2)"
      ],
      "execution_count": null,
      "outputs": [
        {
          "output_type": "stream",
          "text": [
            "Shape Array 1: (2, 3)\n",
            "Array 1:\n",
            " [[0 1 2]\n",
            " [3 4 5]]\n",
            "\n",
            "Shape Array 2: (3,)\n",
            "Array 2: [ 6 10 14]\n"
          ],
          "name": "stdout"
        }
      ]
    },
    {
      "cell_type": "code",
      "metadata": {
        "id": "tMyFzw_VT3LH",
        "outputId": "e3233ac3-edda-435e-ecdd-bcbbeb8398e7"
      },
      "source": [
        "# Suma de ambos Arrays\n",
        "array1 + array2"
      ],
      "execution_count": null,
      "outputs": [
        {
          "output_type": "execute_result",
          "data": {
            "text/plain": [
              "array([[ 6, 11, 16],\n",
              "       [ 9, 14, 19]])"
            ]
          },
          "metadata": {
            "tags": []
          },
          "execution_count": 39
        }
      ]
    },
    {
      "cell_type": "markdown",
      "metadata": {
        "id": "BuhCszDUT3LI"
      },
      "source": [
        "## Funciones estadísticas sobre Arrays"
      ]
    },
    {
      "cell_type": "code",
      "metadata": {
        "id": "YFNnAdrFT3LI",
        "outputId": "492cad2b-5a2f-4ff4-8810-d0f388e6e799"
      },
      "source": [
        "# Creación de un Array unidimensional\n",
        "array1 = np.arange(1, 20, 2)\n",
        "print(\"Array 1:\", array1)"
      ],
      "execution_count": null,
      "outputs": [
        {
          "output_type": "stream",
          "text": [
            "Array 1: [ 1  3  5  7  9 11 13 15 17 19]\n"
          ],
          "name": "stdout"
        }
      ]
    },
    {
      "cell_type": "code",
      "metadata": {
        "id": "8eXZVl93T3LJ",
        "outputId": "0694f189-649e-437e-9c32-7622bc503b9a"
      },
      "source": [
        "# Media de los elementos del Array\n",
        "array1.mean()"
      ],
      "execution_count": null,
      "outputs": [
        {
          "output_type": "execute_result",
          "data": {
            "text/plain": [
              "10.0"
            ]
          },
          "metadata": {
            "tags": []
          },
          "execution_count": 41
        }
      ]
    },
    {
      "cell_type": "code",
      "metadata": {
        "id": "PJhsadJUT3LK",
        "outputId": "cbaa47a0-1377-49cb-a308-a85057ac4053"
      },
      "source": [
        "# Suma de los elementos del Array\n",
        "array1.sum()"
      ],
      "execution_count": null,
      "outputs": [
        {
          "output_type": "execute_result",
          "data": {
            "text/plain": [
              "100"
            ]
          },
          "metadata": {
            "tags": []
          },
          "execution_count": 42
        }
      ]
    },
    {
      "cell_type": "markdown",
      "metadata": {
        "id": "xFKNb0qqT3LL"
      },
      "source": [
        "Funciones universales eficientes proporcionadas por numpy: **ufunc**"
      ]
    },
    {
      "cell_type": "code",
      "metadata": {
        "id": "xHmJSgaAT3LL",
        "outputId": "99989232-4e17-47ab-e95f-15399120cd36"
      },
      "source": [
        "# Cuadrado de los elementos del Array\n",
        "np.square(array1)"
      ],
      "execution_count": null,
      "outputs": [
        {
          "output_type": "execute_result",
          "data": {
            "text/plain": [
              "array([  1,   9,  25,  49,  81, 121, 169, 225, 289, 361])"
            ]
          },
          "metadata": {
            "tags": []
          },
          "execution_count": 43
        }
      ]
    },
    {
      "cell_type": "code",
      "metadata": {
        "id": "lXbUgAz1T3LM",
        "outputId": "0ee03417-d55f-4915-b955-13e06823e9c8"
      },
      "source": [
        "# Raiz cuadrada de los elementos del Array\n",
        "np.sqrt(array1)"
      ],
      "execution_count": null,
      "outputs": [
        {
          "output_type": "execute_result",
          "data": {
            "text/plain": [
              "array([1.        , 1.73205081, 2.23606798, 2.64575131, 3.        ,\n",
              "       3.31662479, 3.60555128, 3.87298335, 4.12310563, 4.35889894])"
            ]
          },
          "metadata": {
            "tags": []
          },
          "execution_count": 44
        }
      ]
    },
    {
      "cell_type": "code",
      "metadata": {
        "id": "rdlVgtbnT3LN",
        "outputId": "49ea8ef3-fcdb-425c-c88c-2443c39b18e9"
      },
      "source": [
        "# Exponencial de los elementos del Array\n",
        "np.exp(array1)"
      ],
      "execution_count": null,
      "outputs": [
        {
          "output_type": "execute_result",
          "data": {
            "text/plain": [
              "array([2.71828183e+00, 2.00855369e+01, 1.48413159e+02, 1.09663316e+03,\n",
              "       8.10308393e+03, 5.98741417e+04, 4.42413392e+05, 3.26901737e+06,\n",
              "       2.41549528e+07, 1.78482301e+08])"
            ]
          },
          "metadata": {
            "tags": []
          },
          "execution_count": 45
        }
      ]
    },
    {
      "cell_type": "code",
      "metadata": {
        "id": "OCzx3P9NT3LO",
        "outputId": "bdf091b4-0107-4cf8-d277-5ecbd86a12d9"
      },
      "source": [
        "# log de los elementos del Array\n",
        "np.log(array1)"
      ],
      "execution_count": null,
      "outputs": [
        {
          "output_type": "execute_result",
          "data": {
            "text/plain": [
              "array([0.        , 1.09861229, 1.60943791, 1.94591015, 2.19722458,\n",
              "       2.39789527, 2.56494936, 2.7080502 , 2.83321334, 2.94443898])"
            ]
          },
          "metadata": {
            "tags": []
          },
          "execution_count": 46
        }
      ]
    },
    {
      "cell_type": "code",
      "metadata": {
        "id": "0itn3finT3LP"
      },
      "source": [],
      "execution_count": null,
      "outputs": []
    }
  ]
}